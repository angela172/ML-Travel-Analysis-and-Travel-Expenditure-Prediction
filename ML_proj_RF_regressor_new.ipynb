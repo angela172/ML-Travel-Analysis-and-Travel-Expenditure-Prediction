{
  "cells": [
    {
      "cell_type": "markdown",
      "metadata": {
        "id": "0MRC0e0KhQ0S"
      },
      "source": [
        "# ML project-Random forest regressor\n",
        "\n",
        "> Indented block\n",
        "\n"
      ]
    },
    {
      "cell_type": "markdown",
      "metadata": {
        "id": "LWd1UlMnhT2s"
      },
      "source": [
        "## Importing the libraries"
      ]
    },
    {
      "cell_type": "code",
      "execution_count": 1,
      "metadata": {
        "id": "bH2yx2lKKsa9"
      },
      "outputs": [],
      "source": [
        "import matplotlib.pyplot as plt\n",
        "import pandas as pd\n",
        "import numpy as np"
      ]
    },
    {
      "cell_type": "code",
      "execution_count": 2,
      "metadata": {
        "id": "83hk73a84mRu"
      },
      "outputs": [],
      "source": [
        "\n",
        "df = pd.read_csv(\"Travel details dataset2.csv\")\n",
        "\n"
      ]
    },
    {
      "cell_type": "code",
      "source": [
        "df"
      ],
      "metadata": {
        "colab": {
          "base_uri": "https://localhost:8080/",
          "height": 617
        },
        "id": "DuGm2h-eI6nc",
        "outputId": "b9958433-603b-4aaf-f6e9-ad9588336442"
      },
      "execution_count": 3,
      "outputs": [
        {
          "output_type": "execute_result",
          "data": {
            "text/plain": [
              "     Trip ID   Destination   End date  Duration (days)    Traveler name  \\\n",
              "0          1        London   5/8/2023                7       John Smith   \n",
              "1          2        Phuket  6/20/2023                5         Jane Doe   \n",
              "2          3          Bali   7/8/2023                7        David Lee   \n",
              "3          4       NewYork  8/29/2023               14    Sarah Johnson   \n",
              "4          5         Tokyo  9/17/2023                7       Kim Nguyen   \n",
              "..       ...           ...        ...              ...              ...   \n",
              "132      135  RiodeJaneiro  8/10/2023                9       Jose Perez   \n",
              "133      136     Vancouver  8/21/2023                6      Emma Wilson   \n",
              "134      137       Bangkok   9/8/2023                7        Ryan Chen   \n",
              "135      138     Barcelona  9/22/2023                7  Sofia Rodriguez   \n",
              "136      139      Auckland  10/8/2023                7    William Brown   \n",
              "\n",
              "     Traveler age Traveler gender Traveler nationality Accommodation type  \\\n",
              "0              35            Male             American              Hotel   \n",
              "1              28          Female             Canadian             Resort   \n",
              "2              45            Male               Korean              Villa   \n",
              "3              29          Female              British              Hotel   \n",
              "4              26          Female           Vietnamese             Airbnb   \n",
              "..            ...             ...                  ...                ...   \n",
              "132            37            Male            Brazilian             Hostel   \n",
              "133            29          Female             Canadian              Hotel   \n",
              "134            34            Male              Chinese             Hostel   \n",
              "135            25          Female              Spanish             Airbnb   \n",
              "136            39            Male        New Zealander              Hotel   \n",
              "\n",
              "     Accommodation cost Transportation type  Transportation cost  \\\n",
              "0                 12000              Flight                  600   \n",
              "1                  8000              Flight                  500   \n",
              "2                 10000              Flight                  700   \n",
              "3                 20000              Flight                 1000   \n",
              "4                  7000               Train                  200   \n",
              "..                  ...                 ...                  ...   \n",
              "132               25000                 Car                 2000   \n",
              "133               50000              Flight                 3000   \n",
              "134               20000               Train                 1000   \n",
              "135               60000              Flight                 2500   \n",
              "136               70000               Train                 2500   \n",
              "\n",
              "     Overall Travel Budget  \n",
              "0                    40000  \n",
              "1                    50000  \n",
              "2                    20000  \n",
              "3                    90000  \n",
              "4                   100000  \n",
              "..                     ...  \n",
              "132                  87000  \n",
              "133                  45000  \n",
              "134                  87000  \n",
              "135                  90000  \n",
              "136                  67000  \n",
              "\n",
              "[137 rows x 13 columns]"
            ],
            "text/html": [
              "\n",
              "  <div id=\"df-989d0347-b19a-4b77-bc70-5c0c8c552e2d\" class=\"colab-df-container\">\n",
              "    <div>\n",
              "<style scoped>\n",
              "    .dataframe tbody tr th:only-of-type {\n",
              "        vertical-align: middle;\n",
              "    }\n",
              "\n",
              "    .dataframe tbody tr th {\n",
              "        vertical-align: top;\n",
              "    }\n",
              "\n",
              "    .dataframe thead th {\n",
              "        text-align: right;\n",
              "    }\n",
              "</style>\n",
              "<table border=\"1\" class=\"dataframe\">\n",
              "  <thead>\n",
              "    <tr style=\"text-align: right;\">\n",
              "      <th></th>\n",
              "      <th>Trip ID</th>\n",
              "      <th>Destination</th>\n",
              "      <th>End date</th>\n",
              "      <th>Duration (days)</th>\n",
              "      <th>Traveler name</th>\n",
              "      <th>Traveler age</th>\n",
              "      <th>Traveler gender</th>\n",
              "      <th>Traveler nationality</th>\n",
              "      <th>Accommodation type</th>\n",
              "      <th>Accommodation cost</th>\n",
              "      <th>Transportation type</th>\n",
              "      <th>Transportation cost</th>\n",
              "      <th>Overall Travel Budget</th>\n",
              "    </tr>\n",
              "  </thead>\n",
              "  <tbody>\n",
              "    <tr>\n",
              "      <th>0</th>\n",
              "      <td>1</td>\n",
              "      <td>London</td>\n",
              "      <td>5/8/2023</td>\n",
              "      <td>7</td>\n",
              "      <td>John Smith</td>\n",
              "      <td>35</td>\n",
              "      <td>Male</td>\n",
              "      <td>American</td>\n",
              "      <td>Hotel</td>\n",
              "      <td>12000</td>\n",
              "      <td>Flight</td>\n",
              "      <td>600</td>\n",
              "      <td>40000</td>\n",
              "    </tr>\n",
              "    <tr>\n",
              "      <th>1</th>\n",
              "      <td>2</td>\n",
              "      <td>Phuket</td>\n",
              "      <td>6/20/2023</td>\n",
              "      <td>5</td>\n",
              "      <td>Jane Doe</td>\n",
              "      <td>28</td>\n",
              "      <td>Female</td>\n",
              "      <td>Canadian</td>\n",
              "      <td>Resort</td>\n",
              "      <td>8000</td>\n",
              "      <td>Flight</td>\n",
              "      <td>500</td>\n",
              "      <td>50000</td>\n",
              "    </tr>\n",
              "    <tr>\n",
              "      <th>2</th>\n",
              "      <td>3</td>\n",
              "      <td>Bali</td>\n",
              "      <td>7/8/2023</td>\n",
              "      <td>7</td>\n",
              "      <td>David Lee</td>\n",
              "      <td>45</td>\n",
              "      <td>Male</td>\n",
              "      <td>Korean</td>\n",
              "      <td>Villa</td>\n",
              "      <td>10000</td>\n",
              "      <td>Flight</td>\n",
              "      <td>700</td>\n",
              "      <td>20000</td>\n",
              "    </tr>\n",
              "    <tr>\n",
              "      <th>3</th>\n",
              "      <td>4</td>\n",
              "      <td>NewYork</td>\n",
              "      <td>8/29/2023</td>\n",
              "      <td>14</td>\n",
              "      <td>Sarah Johnson</td>\n",
              "      <td>29</td>\n",
              "      <td>Female</td>\n",
              "      <td>British</td>\n",
              "      <td>Hotel</td>\n",
              "      <td>20000</td>\n",
              "      <td>Flight</td>\n",
              "      <td>1000</td>\n",
              "      <td>90000</td>\n",
              "    </tr>\n",
              "    <tr>\n",
              "      <th>4</th>\n",
              "      <td>5</td>\n",
              "      <td>Tokyo</td>\n",
              "      <td>9/17/2023</td>\n",
              "      <td>7</td>\n",
              "      <td>Kim Nguyen</td>\n",
              "      <td>26</td>\n",
              "      <td>Female</td>\n",
              "      <td>Vietnamese</td>\n",
              "      <td>Airbnb</td>\n",
              "      <td>7000</td>\n",
              "      <td>Train</td>\n",
              "      <td>200</td>\n",
              "      <td>100000</td>\n",
              "    </tr>\n",
              "    <tr>\n",
              "      <th>...</th>\n",
              "      <td>...</td>\n",
              "      <td>...</td>\n",
              "      <td>...</td>\n",
              "      <td>...</td>\n",
              "      <td>...</td>\n",
              "      <td>...</td>\n",
              "      <td>...</td>\n",
              "      <td>...</td>\n",
              "      <td>...</td>\n",
              "      <td>...</td>\n",
              "      <td>...</td>\n",
              "      <td>...</td>\n",
              "      <td>...</td>\n",
              "    </tr>\n",
              "    <tr>\n",
              "      <th>132</th>\n",
              "      <td>135</td>\n",
              "      <td>RiodeJaneiro</td>\n",
              "      <td>8/10/2023</td>\n",
              "      <td>9</td>\n",
              "      <td>Jose Perez</td>\n",
              "      <td>37</td>\n",
              "      <td>Male</td>\n",
              "      <td>Brazilian</td>\n",
              "      <td>Hostel</td>\n",
              "      <td>25000</td>\n",
              "      <td>Car</td>\n",
              "      <td>2000</td>\n",
              "      <td>87000</td>\n",
              "    </tr>\n",
              "    <tr>\n",
              "      <th>133</th>\n",
              "      <td>136</td>\n",
              "      <td>Vancouver</td>\n",
              "      <td>8/21/2023</td>\n",
              "      <td>6</td>\n",
              "      <td>Emma Wilson</td>\n",
              "      <td>29</td>\n",
              "      <td>Female</td>\n",
              "      <td>Canadian</td>\n",
              "      <td>Hotel</td>\n",
              "      <td>50000</td>\n",
              "      <td>Flight</td>\n",
              "      <td>3000</td>\n",
              "      <td>45000</td>\n",
              "    </tr>\n",
              "    <tr>\n",
              "      <th>134</th>\n",
              "      <td>137</td>\n",
              "      <td>Bangkok</td>\n",
              "      <td>9/8/2023</td>\n",
              "      <td>7</td>\n",
              "      <td>Ryan Chen</td>\n",
              "      <td>34</td>\n",
              "      <td>Male</td>\n",
              "      <td>Chinese</td>\n",
              "      <td>Hostel</td>\n",
              "      <td>20000</td>\n",
              "      <td>Train</td>\n",
              "      <td>1000</td>\n",
              "      <td>87000</td>\n",
              "    </tr>\n",
              "    <tr>\n",
              "      <th>135</th>\n",
              "      <td>138</td>\n",
              "      <td>Barcelona</td>\n",
              "      <td>9/22/2023</td>\n",
              "      <td>7</td>\n",
              "      <td>Sofia Rodriguez</td>\n",
              "      <td>25</td>\n",
              "      <td>Female</td>\n",
              "      <td>Spanish</td>\n",
              "      <td>Airbnb</td>\n",
              "      <td>60000</td>\n",
              "      <td>Flight</td>\n",
              "      <td>2500</td>\n",
              "      <td>90000</td>\n",
              "    </tr>\n",
              "    <tr>\n",
              "      <th>136</th>\n",
              "      <td>139</td>\n",
              "      <td>Auckland</td>\n",
              "      <td>10/8/2023</td>\n",
              "      <td>7</td>\n",
              "      <td>William Brown</td>\n",
              "      <td>39</td>\n",
              "      <td>Male</td>\n",
              "      <td>New Zealander</td>\n",
              "      <td>Hotel</td>\n",
              "      <td>70000</td>\n",
              "      <td>Train</td>\n",
              "      <td>2500</td>\n",
              "      <td>67000</td>\n",
              "    </tr>\n",
              "  </tbody>\n",
              "</table>\n",
              "<p>137 rows × 13 columns</p>\n",
              "</div>\n",
              "    <div class=\"colab-df-buttons\">\n",
              "\n",
              "  <div class=\"colab-df-container\">\n",
              "    <button class=\"colab-df-convert\" onclick=\"convertToInteractive('df-989d0347-b19a-4b77-bc70-5c0c8c552e2d')\"\n",
              "            title=\"Convert this dataframe to an interactive table.\"\n",
              "            style=\"display:none;\">\n",
              "\n",
              "  <svg xmlns=\"http://www.w3.org/2000/svg\" height=\"24px\" viewBox=\"0 -960 960 960\">\n",
              "    <path d=\"M120-120v-720h720v720H120Zm60-500h600v-160H180v160Zm220 220h160v-160H400v160Zm0 220h160v-160H400v160ZM180-400h160v-160H180v160Zm440 0h160v-160H620v160ZM180-180h160v-160H180v160Zm440 0h160v-160H620v160Z\"/>\n",
              "  </svg>\n",
              "    </button>\n",
              "\n",
              "  <style>\n",
              "    .colab-df-container {\n",
              "      display:flex;\n",
              "      gap: 12px;\n",
              "    }\n",
              "\n",
              "    .colab-df-convert {\n",
              "      background-color: #E8F0FE;\n",
              "      border: none;\n",
              "      border-radius: 50%;\n",
              "      cursor: pointer;\n",
              "      display: none;\n",
              "      fill: #1967D2;\n",
              "      height: 32px;\n",
              "      padding: 0 0 0 0;\n",
              "      width: 32px;\n",
              "    }\n",
              "\n",
              "    .colab-df-convert:hover {\n",
              "      background-color: #E2EBFA;\n",
              "      box-shadow: 0px 1px 2px rgba(60, 64, 67, 0.3), 0px 1px 3px 1px rgba(60, 64, 67, 0.15);\n",
              "      fill: #174EA6;\n",
              "    }\n",
              "\n",
              "    .colab-df-buttons div {\n",
              "      margin-bottom: 4px;\n",
              "    }\n",
              "\n",
              "    [theme=dark] .colab-df-convert {\n",
              "      background-color: #3B4455;\n",
              "      fill: #D2E3FC;\n",
              "    }\n",
              "\n",
              "    [theme=dark] .colab-df-convert:hover {\n",
              "      background-color: #434B5C;\n",
              "      box-shadow: 0px 1px 3px 1px rgba(0, 0, 0, 0.15);\n",
              "      filter: drop-shadow(0px 1px 2px rgba(0, 0, 0, 0.3));\n",
              "      fill: #FFFFFF;\n",
              "    }\n",
              "  </style>\n",
              "\n",
              "    <script>\n",
              "      const buttonEl =\n",
              "        document.querySelector('#df-989d0347-b19a-4b77-bc70-5c0c8c552e2d button.colab-df-convert');\n",
              "      buttonEl.style.display =\n",
              "        google.colab.kernel.accessAllowed ? 'block' : 'none';\n",
              "\n",
              "      async function convertToInteractive(key) {\n",
              "        const element = document.querySelector('#df-989d0347-b19a-4b77-bc70-5c0c8c552e2d');\n",
              "        const dataTable =\n",
              "          await google.colab.kernel.invokeFunction('convertToInteractive',\n",
              "                                                    [key], {});\n",
              "        if (!dataTable) return;\n",
              "\n",
              "        const docLinkHtml = 'Like what you see? Visit the ' +\n",
              "          '<a target=\"_blank\" href=https://colab.research.google.com/notebooks/data_table.ipynb>data table notebook</a>'\n",
              "          + ' to learn more about interactive tables.';\n",
              "        element.innerHTML = '';\n",
              "        dataTable['output_type'] = 'display_data';\n",
              "        await google.colab.output.renderOutput(dataTable, element);\n",
              "        const docLink = document.createElement('div');\n",
              "        docLink.innerHTML = docLinkHtml;\n",
              "        element.appendChild(docLink);\n",
              "      }\n",
              "    </script>\n",
              "  </div>\n",
              "\n",
              "\n",
              "<div id=\"df-6a86447c-a866-4e3b-88af-41ac271c7904\">\n",
              "  <button class=\"colab-df-quickchart\" onclick=\"quickchart('df-6a86447c-a866-4e3b-88af-41ac271c7904')\"\n",
              "            title=\"Suggest charts\"\n",
              "            style=\"display:none;\">\n",
              "\n",
              "<svg xmlns=\"http://www.w3.org/2000/svg\" height=\"24px\"viewBox=\"0 0 24 24\"\n",
              "     width=\"24px\">\n",
              "    <g>\n",
              "        <path d=\"M19 3H5c-1.1 0-2 .9-2 2v14c0 1.1.9 2 2 2h14c1.1 0 2-.9 2-2V5c0-1.1-.9-2-2-2zM9 17H7v-7h2v7zm4 0h-2V7h2v10zm4 0h-2v-4h2v4z\"/>\n",
              "    </g>\n",
              "</svg>\n",
              "  </button>\n",
              "\n",
              "<style>\n",
              "  .colab-df-quickchart {\n",
              "      --bg-color: #E8F0FE;\n",
              "      --fill-color: #1967D2;\n",
              "      --hover-bg-color: #E2EBFA;\n",
              "      --hover-fill-color: #174EA6;\n",
              "      --disabled-fill-color: #AAA;\n",
              "      --disabled-bg-color: #DDD;\n",
              "  }\n",
              "\n",
              "  [theme=dark] .colab-df-quickchart {\n",
              "      --bg-color: #3B4455;\n",
              "      --fill-color: #D2E3FC;\n",
              "      --hover-bg-color: #434B5C;\n",
              "      --hover-fill-color: #FFFFFF;\n",
              "      --disabled-bg-color: #3B4455;\n",
              "      --disabled-fill-color: #666;\n",
              "  }\n",
              "\n",
              "  .colab-df-quickchart {\n",
              "    background-color: var(--bg-color);\n",
              "    border: none;\n",
              "    border-radius: 50%;\n",
              "    cursor: pointer;\n",
              "    display: none;\n",
              "    fill: var(--fill-color);\n",
              "    height: 32px;\n",
              "    padding: 0;\n",
              "    width: 32px;\n",
              "  }\n",
              "\n",
              "  .colab-df-quickchart:hover {\n",
              "    background-color: var(--hover-bg-color);\n",
              "    box-shadow: 0 1px 2px rgba(60, 64, 67, 0.3), 0 1px 3px 1px rgba(60, 64, 67, 0.15);\n",
              "    fill: var(--button-hover-fill-color);\n",
              "  }\n",
              "\n",
              "  .colab-df-quickchart-complete:disabled,\n",
              "  .colab-df-quickchart-complete:disabled:hover {\n",
              "    background-color: var(--disabled-bg-color);\n",
              "    fill: var(--disabled-fill-color);\n",
              "    box-shadow: none;\n",
              "  }\n",
              "\n",
              "  .colab-df-spinner {\n",
              "    border: 2px solid var(--fill-color);\n",
              "    border-color: transparent;\n",
              "    border-bottom-color: var(--fill-color);\n",
              "    animation:\n",
              "      spin 1s steps(1) infinite;\n",
              "  }\n",
              "\n",
              "  @keyframes spin {\n",
              "    0% {\n",
              "      border-color: transparent;\n",
              "      border-bottom-color: var(--fill-color);\n",
              "      border-left-color: var(--fill-color);\n",
              "    }\n",
              "    20% {\n",
              "      border-color: transparent;\n",
              "      border-left-color: var(--fill-color);\n",
              "      border-top-color: var(--fill-color);\n",
              "    }\n",
              "    30% {\n",
              "      border-color: transparent;\n",
              "      border-left-color: var(--fill-color);\n",
              "      border-top-color: var(--fill-color);\n",
              "      border-right-color: var(--fill-color);\n",
              "    }\n",
              "    40% {\n",
              "      border-color: transparent;\n",
              "      border-right-color: var(--fill-color);\n",
              "      border-top-color: var(--fill-color);\n",
              "    }\n",
              "    60% {\n",
              "      border-color: transparent;\n",
              "      border-right-color: var(--fill-color);\n",
              "    }\n",
              "    80% {\n",
              "      border-color: transparent;\n",
              "      border-right-color: var(--fill-color);\n",
              "      border-bottom-color: var(--fill-color);\n",
              "    }\n",
              "    90% {\n",
              "      border-color: transparent;\n",
              "      border-bottom-color: var(--fill-color);\n",
              "    }\n",
              "  }\n",
              "</style>\n",
              "\n",
              "  <script>\n",
              "    async function quickchart(key) {\n",
              "      const quickchartButtonEl =\n",
              "        document.querySelector('#' + key + ' button');\n",
              "      quickchartButtonEl.disabled = true;  // To prevent multiple clicks.\n",
              "      quickchartButtonEl.classList.add('colab-df-spinner');\n",
              "      try {\n",
              "        const charts = await google.colab.kernel.invokeFunction(\n",
              "            'suggestCharts', [key], {});\n",
              "      } catch (error) {\n",
              "        console.error('Error during call to suggestCharts:', error);\n",
              "      }\n",
              "      quickchartButtonEl.classList.remove('colab-df-spinner');\n",
              "      quickchartButtonEl.classList.add('colab-df-quickchart-complete');\n",
              "    }\n",
              "    (() => {\n",
              "      let quickchartButtonEl =\n",
              "        document.querySelector('#df-6a86447c-a866-4e3b-88af-41ac271c7904 button');\n",
              "      quickchartButtonEl.style.display =\n",
              "        google.colab.kernel.accessAllowed ? 'block' : 'none';\n",
              "    })();\n",
              "  </script>\n",
              "</div>\n",
              "    </div>\n",
              "  </div>\n"
            ]
          },
          "metadata": {},
          "execution_count": 3
        }
      ]
    },
    {
      "cell_type": "markdown",
      "metadata": {
        "id": "K1VMqkGvhc3-"
      },
      "source": [
        "## Importing the dataset"
      ]
    },
    {
      "cell_type": "code",
      "execution_count": 4,
      "metadata": {
        "id": "eK6NceLz4mRw"
      },
      "outputs": [],
      "source": [
        "X = df.iloc[:, [1, 3,8,12]].values\n",
        "y= df.iloc[:, 9].values"
      ]
    },
    {
      "cell_type": "code",
      "execution_count": 64,
      "metadata": {
        "colab": {
          "base_uri": "https://localhost:8080/"
        },
        "id": "_5vVSFiO4mRw",
        "outputId": "46a385d7-5302-4570-9302-9b6f3b3f8f92"
      },
      "outputs": [
        {
          "output_type": "execute_result",
          "data": {
            "text/plain": [
              "array([['London', 7, 'Hotel', 40000],\n",
              "       ['Phuket', 5, 'Resort', 50000],\n",
              "       ['Bali', 7, 'Villa', 20000],\n",
              "       ['NewYork', 14, 'Hotel', 90000],\n",
              "       ['Tokyo', 7, 'Airbnb', 100000],\n",
              "       ['Paris', 5, 'Hotel', 45000],\n",
              "       ['Sydney', 10, 'Hostel', 22200],\n",
              "       ['RiodeJaneiro', 7, 'Airbnb', 90000],\n",
              "       ['Amsterdam', 7, 'Hotel', 98000],\n",
              "       ['Dubai', 7, 'Resort', 99999],\n",
              "       ['Cancun', 7, 'Hotel', 94000],\n",
              "       ['Barcelona', 7, 'Airbnb', 67000],\n",
              "       ['Honolulu', 8, 'Resort', 48000],\n",
              "       ['Berlin', 9, 'Hotel', 76000],\n",
              "       ['Marrakech', 7, 'Riad', 86000],\n",
              "       ['Edinburgh', 7, 'Hotel', 45000],\n",
              "       ['Paris', 9, 'Hotel', 56000],\n",
              "       ['Bali', 10, 'Resort', 20000],\n",
              "       ['London', 6, 'Hotel', 30000],\n",
              "       ['Tokyo', 10, 'Hotel', 107000],\n",
              "       ['NewYork', 5, 'Airbnb', 80000],\n",
              "       ['Sydney', 7, 'Hotel', 84321],\n",
              "       ['Rome', 7, 'Airbnb', 90800],\n",
              "       ['Bangkok', 8, 'Hostel', 40000],\n",
              "       ['Paris', 6, 'Hotel', 56000],\n",
              "       ['Hawaii', 9, 'Resort', 78900],\n",
              "       ['Barcelona', 8, 'Hotel', 45000],\n",
              "       ['Japan', 8, 'Hotel', 46000],\n",
              "       ['Thailand', 7, 'Hostel', 67000],\n",
              "       ['France', 9, 'Airbnb', 67550],\n",
              "       ['Australia', 13, 'Hotel', 34567],\n",
              "       ['Brazil', 9, 'Hostel', 43000],\n",
              "       ['Greece', 8, 'Airbnb', 98500],\n",
              "       ['Egypt', 7, 'Hotel', 80700],\n",
              "       ['Mexico', 10, 'Airbnb', 65000],\n",
              "       ['Italy', 6, 'Hostel', 65700],\n",
              "       ['Spain', 8, 'Hotel', 99023],\n",
              "       ['Canada', 7, 'Airbnb', 100200],\n",
              "       ['Paris', 7, 'Hotel', 90999],\n",
              "       ['Sydney', 7, 'Airbnb', 89000],\n",
              "       ['Tokyo', 8, 'Hostel', 98000],\n",
              "       ['Cancun', 7, 'Resort', 45000],\n",
              "       ['RiodeJaneiro', 7, 'Hotel', 48000],\n",
              "       ['London', 7, 'Airbnb', 67000],\n",
              "       ['Barcelona', 7, 'Hostel', 23000],\n",
              "       ['NewYork ', 7, 'Hotel', 35000],\n",
              "       ['Bangkok', 6, 'Airbnb', 86000],\n",
              "       ['Vancouver', 7, 'Hostel', 97000],\n",
              "       ['Amsterdam', 8, 'Hotel', 56000],\n",
              "       ['Paris', 7, 'Hotel', 87000],\n",
              "       ['Tokyo', 10, 'Hostel', 32000],\n",
              "       ['Sydney', 7, 'Airbnb', 45600],\n",
              "       ['NewYork', 7, 'Hotel', 90000],\n",
              "       ['RiodeJaneiro', 9, 'Airbnb', 45000],\n",
              "       ['Bangkok', 8, 'Hostel', 46500],\n",
              "       ['London', 8, 'Hotel', 67000],\n",
              "       ['Barcelona', 8, 'Airbnb', 99700],\n",
              "       ['Seoul', 8, 'Hostel', 56000],\n",
              "       ['LosAngeles', 7, 'Hotel', 87000],\n",
              "       ['Rome', 8, 'Airbnb', 78000],\n",
              "       ['Paris', 6, 'Hotel', 95000],\n",
              "       ['Tokyo', 7, 'Hostel', 78000],\n",
              "       ['CapeTown', 9, 'Vacation rental', 45000],\n",
              "       ['Sydney', 6, 'Hotel', 67000],\n",
              "       ['Barcelona', 7, 'Vacation rental', 70000],\n",
              "       ['Bali', 7, 'Resort', 89000],\n",
              "       ['Paris', 6, 'Hotel', 78000],\n",
              "       ['NewYork', 6, 'Vacation rental', 65000],\n",
              "       ['Bangkok', 8, 'Hostel', 90000],\n",
              "       ['Rome', 6, 'Hotel', 23000],\n",
              "       ['Bali', 8, 'Resort', 32000],\n",
              "       ['Bali', 7, 'Resort', 32500],\n",
              "       ['Tokyo', 8, 'Hotel', 87000],\n",
              "       ['Cancun', 7, 'Resort', 8600],\n",
              "       ['Paris', 7, 'Hotel', 100000],\n",
              "       ['CapeTown', 9, 'Guesthouse', 79000],\n",
              "       ['Bali', 7, 'Resort', 67000],\n",
              "       ['Sydney', 7, 'Hotel', 56000],\n",
              "       ['Bangkok', 7, 'Hotel', 78000],\n",
              "       ['NewYork', 7, 'Hotel', 56800],\n",
              "       ['Phuket', 7, 'Resort', 59033],\n",
              "       ['Rome', 7, 'Hotel', 23000],\n",
              "       ['Paris', 6, 'Hotel', 78500],\n",
              "       ['Tokyo', 10, 'Airbnb', 34500],\n",
              "       ['Bali', 11, 'Resort', 34000],\n",
              "       ['Sydney', 9, 'Hotel', 56500],\n",
              "       ['NewYork', 6, 'Airbnb', 56000],\n",
              "       ['London', 11, 'Hostel', 78000],\n",
              "       ['Dubai', 8, 'Hotel', 46000],\n",
              "       ['Bangkok', 7, 'Airbnb', 45000],\n",
              "       ['Rome', 11, 'Hostel', 81000],\n",
              "       ['Bali', 11, 'Villa', 78000],\n",
              "       ['Seoul', 10, 'Hotel', 87000],\n",
              "       ['Paris', 5, 'Hotel', 32000],\n",
              "       ['Tokyo', 9, 'Airbnb', 34000],\n",
              "       ['Sydney', 9, 'Hostel', 56000],\n",
              "       ['London', 5, 'Hotel', 67000],\n",
              "       ['NewYork', 6, 'Airbnb', 92000],\n",
              "       ['Rome', 7, 'Hotel', 56000],\n",
              "       ['Bangkok', 8, 'Hostel', 67000],\n",
              "       ['CapeTown', 8, 'Airbnb', 32000],\n",
              "       ['RiodeJaneiro', 7, 'Hotel', 45600],\n",
              "       ['Bali', 6, 'Villa', 56700],\n",
              "       ['Amsterdam', 7, 'Hotel', 10000],\n",
              "       ['Paris', 5, 'Hotel', 99000],\n",
              "       ['Tokyo', 9, 'Airbnb', 87000],\n",
              "       ['NewYork', 5, 'Hotel', 67000],\n",
              "       ['Bali', 8, 'Resort', 56000],\n",
              "       ['Sydney', 9, 'Hostel', 33350],\n",
              "       ['London', 5, 'Hotel', 34000],\n",
              "       ['Phuket', 7, 'Villa', 56700],\n",
              "       ['Rome', 7, 'Hotel', 56000],\n",
              "       ['Santorini', 7, 'Airbnb', 67000],\n",
              "       ['Dubai', 5, 'Hotel', 78000],\n",
              "       ['PhnomPenh', 5, 'Hostel', 87800],\n",
              "       ['Tokyo', 9, 'Hotel', 88000],\n",
              "       ['Paris', 7, 'Hotel', 90000],\n",
              "       ['Sydney', 11, 'Airbnb', 78000],\n",
              "       ['Rome', 7, 'Hotel', 56000],\n",
              "       ['Bali', 10, 'Hostel', 70000],\n",
              "       ['Cancun', 8, 'Hotel', 90800],\n",
              "       ['Athens', 10, 'Airbnb', 78000],\n",
              "       ['Tokyo', 8, 'Hotel', 24300],\n",
              "       ['Sydney', 10, 'Airbnb', 46730],\n",
              "       ['Paris', 8, 'Hostel', 47634],\n",
              "       ['Bali', 8, 'Hotel', 35463],\n",
              "       ['Paris', 6, 'Hotel', 76795],\n",
              "       ['Tokyo', 7, 'Airbnb', 45000],\n",
              "       ['CapeTown', 9, 'Hostel', 45765],\n",
              "       ['Sydney', 6, 'Hotel', 37644],\n",
              "       ['Rome', 7, 'Airbnb', 263539],\n",
              "       ['NewYork ', 7, 'Hotel', 43567],\n",
              "       ['RiodeJaneiro', 9, 'Hostel', 87000],\n",
              "       ['Vancouver', 6, 'Hotel', 45000],\n",
              "       ['Bangkok', 7, 'Hostel', 87000],\n",
              "       ['Barcelona', 7, 'Airbnb', 90000],\n",
              "       ['Auckland', 7, 'Hotel', 67000]], dtype=object)"
            ]
          },
          "metadata": {},
          "execution_count": 64
        }
      ],
      "source": [
        "X"
      ]
    },
    {
      "cell_type": "code",
      "source": [
        "y"
      ],
      "metadata": {
        "colab": {
          "base_uri": "https://localhost:8080/"
        },
        "id": "HskxVKXM4-iI",
        "outputId": "44462b8c-3e33-4c9e-90a9-956bdffa2392"
      },
      "execution_count": 62,
      "outputs": [
        {
          "output_type": "execute_result",
          "data": {
            "text/plain": [
              "array([ 600,  500,  700, 1000,  200,  800, 1200,  600,  200,  800,  500,\n",
              "        100, 1200,  700,  400,  150,  400,  700,  150,  800,  100,  600,\n",
              "         80,  500,  100,  800,  150,  500,  150,  300,  500,   50,  600,\n",
              "        100,  800,  120,  400,   75,  600,  150,  900,  800,  700,  100,\n",
              "        600,  500,   50,  150,  700,  300,  100,  200,  800,  150,   50,\n",
              "        200,  250,   20,  300,  100,  800,  300,  200, 1200,  700, 1000,\n",
              "        200,  800,  700,  100, 1000,  800,  200,  500,  700,  300,  700,\n",
              "        600,  400, 1000,  800,    0,  500,  300,  700,  600,  200,  400,\n",
              "        800,  100,  350,  300,  150,  800,  200, 1200,  700,  300,  900,\n",
              "        100, 1500,  400, 1000,  150,  800,  500,  200, 1200,  900,  150,\n",
              "        700,  250,  150,  300,  500,  700,  500, 1000,  400,  800,  600,\n",
              "        900,  700, 1000,  700,  800, 2500, 1500, 2000, 3000, 1500, 2500,\n",
              "       2000, 3000, 1000, 2500, 2500])"
            ]
          },
          "metadata": {},
          "execution_count": 62
        }
      ]
    },
    {
      "cell_type": "markdown",
      "metadata": {
        "id": "YvxIPVyMhmKp"
      },
      "source": [
        "## Label encoding"
      ]
    },
    {
      "cell_type": "code",
      "source": [
        "from sklearn.preprocessing import LabelEncoder\n",
        "le = LabelEncoder()\n",
        "X[:,0] = le.fit_transform(X[:,0])"
      ],
      "metadata": {
        "id": "yvCY3ADq5UMl"
      },
      "execution_count": 5,
      "outputs": []
    },
    {
      "cell_type": "code",
      "source": [
        "from sklearn.preprocessing import LabelEncoder\n",
        "le = LabelEncoder()\n",
        "X[:,2] = le.fit_transform(X[:,2])"
      ],
      "metadata": {
        "id": "loby7hV_7HlX"
      },
      "execution_count": 6,
      "outputs": []
    },
    {
      "cell_type": "markdown",
      "source": [
        "## Splitting the dataset into the Training set and Test set"
      ],
      "metadata": {
        "id": "9kXVJBSpPHwg"
      }
    },
    {
      "cell_type": "code",
      "execution_count": 7,
      "metadata": {
        "id": "DYHcz9G9pvhg"
      },
      "outputs": [],
      "source": [
        "#Train test split\n",
        "from sklearn.model_selection import train_test_split\n",
        "X_train, X_test, y_train, y_test = train_test_split(X, y, test_size = 0.30, random_state = 1)"
      ]
    },
    {
      "cell_type": "code",
      "execution_count": null,
      "metadata": {
        "id": "w8Cnq4G8nsu1"
      },
      "outputs": [],
      "source": [
        "print(X_train)"
      ]
    },
    {
      "cell_type": "markdown",
      "metadata": {
        "id": "ap02mLBk4mRy"
      },
      "source": [
        "## Building the model"
      ]
    },
    {
      "cell_type": "code",
      "execution_count": 8,
      "metadata": {
        "colab": {
          "base_uri": "https://localhost:8080/",
          "height": 74
        },
        "id": "cPD7Gf4q4mRz",
        "outputId": "f0434530-b43c-4719-88ad-ceef7c0a304d"
      },
      "outputs": [
        {
          "output_type": "execute_result",
          "data": {
            "text/plain": [
              "RandomForestRegressor(random_state=42)"
            ],
            "text/html": [
              "<style>#sk-container-id-1 {color: black;background-color: white;}#sk-container-id-1 pre{padding: 0;}#sk-container-id-1 div.sk-toggleable {background-color: white;}#sk-container-id-1 label.sk-toggleable__label {cursor: pointer;display: block;width: 100%;margin-bottom: 0;padding: 0.3em;box-sizing: border-box;text-align: center;}#sk-container-id-1 label.sk-toggleable__label-arrow:before {content: \"▸\";float: left;margin-right: 0.25em;color: #696969;}#sk-container-id-1 label.sk-toggleable__label-arrow:hover:before {color: black;}#sk-container-id-1 div.sk-estimator:hover label.sk-toggleable__label-arrow:before {color: black;}#sk-container-id-1 div.sk-toggleable__content {max-height: 0;max-width: 0;overflow: hidden;text-align: left;background-color: #f0f8ff;}#sk-container-id-1 div.sk-toggleable__content pre {margin: 0.2em;color: black;border-radius: 0.25em;background-color: #f0f8ff;}#sk-container-id-1 input.sk-toggleable__control:checked~div.sk-toggleable__content {max-height: 200px;max-width: 100%;overflow: auto;}#sk-container-id-1 input.sk-toggleable__control:checked~label.sk-toggleable__label-arrow:before {content: \"▾\";}#sk-container-id-1 div.sk-estimator input.sk-toggleable__control:checked~label.sk-toggleable__label {background-color: #d4ebff;}#sk-container-id-1 div.sk-label input.sk-toggleable__control:checked~label.sk-toggleable__label {background-color: #d4ebff;}#sk-container-id-1 input.sk-hidden--visually {border: 0;clip: rect(1px 1px 1px 1px);clip: rect(1px, 1px, 1px, 1px);height: 1px;margin: -1px;overflow: hidden;padding: 0;position: absolute;width: 1px;}#sk-container-id-1 div.sk-estimator {font-family: monospace;background-color: #f0f8ff;border: 1px dotted black;border-radius: 0.25em;box-sizing: border-box;margin-bottom: 0.5em;}#sk-container-id-1 div.sk-estimator:hover {background-color: #d4ebff;}#sk-container-id-1 div.sk-parallel-item::after {content: \"\";width: 100%;border-bottom: 1px solid gray;flex-grow: 1;}#sk-container-id-1 div.sk-label:hover label.sk-toggleable__label {background-color: #d4ebff;}#sk-container-id-1 div.sk-serial::before {content: \"\";position: absolute;border-left: 1px solid gray;box-sizing: border-box;top: 0;bottom: 0;left: 50%;z-index: 0;}#sk-container-id-1 div.sk-serial {display: flex;flex-direction: column;align-items: center;background-color: white;padding-right: 0.2em;padding-left: 0.2em;position: relative;}#sk-container-id-1 div.sk-item {position: relative;z-index: 1;}#sk-container-id-1 div.sk-parallel {display: flex;align-items: stretch;justify-content: center;background-color: white;position: relative;}#sk-container-id-1 div.sk-item::before, #sk-container-id-1 div.sk-parallel-item::before {content: \"\";position: absolute;border-left: 1px solid gray;box-sizing: border-box;top: 0;bottom: 0;left: 50%;z-index: -1;}#sk-container-id-1 div.sk-parallel-item {display: flex;flex-direction: column;z-index: 1;position: relative;background-color: white;}#sk-container-id-1 div.sk-parallel-item:first-child::after {align-self: flex-end;width: 50%;}#sk-container-id-1 div.sk-parallel-item:last-child::after {align-self: flex-start;width: 50%;}#sk-container-id-1 div.sk-parallel-item:only-child::after {width: 0;}#sk-container-id-1 div.sk-dashed-wrapped {border: 1px dashed gray;margin: 0 0.4em 0.5em 0.4em;box-sizing: border-box;padding-bottom: 0.4em;background-color: white;}#sk-container-id-1 div.sk-label label {font-family: monospace;font-weight: bold;display: inline-block;line-height: 1.2em;}#sk-container-id-1 div.sk-label-container {text-align: center;}#sk-container-id-1 div.sk-container {/* jupyter's `normalize.less` sets `[hidden] { display: none; }` but bootstrap.min.css set `[hidden] { display: none !important; }` so we also need the `!important` here to be able to override the default hidden behavior on the sphinx rendered scikit-learn.org. See: https://github.com/scikit-learn/scikit-learn/issues/21755 */display: inline-block !important;position: relative;}#sk-container-id-1 div.sk-text-repr-fallback {display: none;}</style><div id=\"sk-container-id-1\" class=\"sk-top-container\"><div class=\"sk-text-repr-fallback\"><pre>RandomForestRegressor(random_state=42)</pre><b>In a Jupyter environment, please rerun this cell to show the HTML representation or trust the notebook. <br />On GitHub, the HTML representation is unable to render, please try loading this page with nbviewer.org.</b></div><div class=\"sk-container\" hidden><div class=\"sk-item\"><div class=\"sk-estimator sk-toggleable\"><input class=\"sk-toggleable__control sk-hidden--visually\" id=\"sk-estimator-id-1\" type=\"checkbox\" checked><label for=\"sk-estimator-id-1\" class=\"sk-toggleable__label sk-toggleable__label-arrow\">RandomForestRegressor</label><div class=\"sk-toggleable__content\"><pre>RandomForestRegressor(random_state=42)</pre></div></div></div></div></div>"
            ]
          },
          "metadata": {},
          "execution_count": 8
        }
      ],
      "source": [
        "\n",
        "from sklearn.ensemble import RandomForestRegressor\n",
        "\n",
        "rf = RandomForestRegressor(random_state=42)\n",
        "rf.fit(X,y)"
      ]
    },
    {
      "cell_type": "markdown",
      "metadata": {
        "id": "yyxW5b395mR2"
      },
      "source": [
        "## Predicting a Test results"
      ]
    },
    {
      "cell_type": "code",
      "source": [
        "predictions = rf.predict(X_test)\n",
        "\n"
      ],
      "metadata": {
        "id": "KTdHI2JJOj0L"
      },
      "execution_count": 9,
      "outputs": []
    },
    {
      "cell_type": "code",
      "source": [
        "plt.scatter(y_test,predictions)\n",
        "plt.xlabel('Y Test')\n",
        "plt.ylabel('Predicted Y')"
      ],
      "metadata": {
        "colab": {
          "base_uri": "https://localhost:8080/",
          "height": 466
        },
        "id": "oyygbi9Wb2Ww",
        "outputId": "89b6c9ea-8c3e-47c1-a87d-a7f7456a56ff"
      },
      "execution_count": 10,
      "outputs": [
        {
          "output_type": "execute_result",
          "data": {
            "text/plain": [
              "Text(0, 0.5, 'Predicted Y')"
            ]
          },
          "metadata": {},
          "execution_count": 10
        },
        {
          "output_type": "display_data",
          "data": {
            "text/plain": [
              "<Figure size 640x480 with 1 Axes>"
            ],
            "image/png": "[encoded data removed]"
          },
          "metadata": {}
        }
      ]
    },
    {
      "cell_type": "markdown",
      "metadata": {
        "id": "h4Hwj34ziWQW"
      },
      "source": [
        "## Making the Confusion Matrix"
      ]
    },
    {
      "cell_type": "code",
      "execution_count": 11,
      "metadata": {
        "id": "AWbXqGWRJJN4"
      },
      "outputs": [],
      "source": [
        "from sklearn.metrics import classification_report,confusion_matrix"
      ]
    },
    {
      "cell_type": "code",
      "source": [
        "# Calculation of Metrics\n",
        "from sklearn import metrics\n",
        "\n",
        "print('MAE:', metrics.mean_absolute_error(y_test, predictions))\n",
        "print('MSE:', metrics.mean_squared_error(y_test, predictions))\n",
        "print('RMSE:', np.sqrt(metrics.mean_squared_error(y_test, predictions)))\n",
        "print('R^2:',metrics.r2_score(y_test,predictions))"
      ],
      "metadata": {
        "colab": {
          "base_uri": "https://localhost:8080/"
        },
        "id": "ppJQmFdqb_wm",
        "outputId": "8050210c-cc72-4007-ef42-87bc554ea1d9"
      },
      "execution_count": 12,
      "outputs": [
        {
          "output_type": "stream",
          "name": "stdout",
          "text": [
            "MAE: 4179.8537414965995\n",
            "MSE: 43403287.20910269\n",
            "RMSE: 6588.11712168983\n",
            "R^2: 0.8556834509575529\n"
          ]
        }
      ]
    },
    {
      "cell_type": "code",
      "source": [
        "import pandas as pd\n",
        "import seaborn as sns\n",
        "import matplotlib.pyplot as plt\n",
        "\n",
        "# Assuming you have a DataFrame named 'data'\n",
        "# If not, replace it with your DataFrame containing numerical columns\n",
        "\n",
        "# Generate a correlation matrix\n",
        "correlation_matrix = df.corr()\n",
        "\n",
        "# Set up the matplotlib figure\n",
        "plt.figure(figsize=(10, 8))\n",
        "\n",
        "# Plot the heatmap using Seaborn\n",
        "sns.heatmap(correlation_matrix, annot=True, cmap=\"coolwarm\", fmt=\".2f\", linewidths=0.5)\n",
        "\n",
        "# Show the plot\n",
        "plt.title('Correlation Matrix')\n",
        "plt.show()\n"
      ],
      "metadata": {
        "colab": {
          "base_uri": "https://localhost:8080/",
          "height": 849
        },
        "id": "upnulCouIfZ8",
        "outputId": "423114a1-0b99-4e20-988c-c4412a90a4ba"
      },
      "execution_count": 37,
      "outputs": [
        {
          "output_type": "stream",
          "name": "stderr",
          "text": [
            "<ipython-input-37-cb18feeff719>:9: FutureWarning: The default value of numeric_only in DataFrame.corr is deprecated. In a future version, it will default to False. Select only valid columns or specify the value of numeric_only to silence this warning.\n",
            "  correlation_matrix = df.corr()\n"
          ]
        },
        {
          "output_type": "display_data",
          "data": {
            "text/plain": [
              "<Figure size 1000x800 with 2 Axes>"
            ],
            "image/png": "[encoded data removed]"
          },
          "metadata": {}
        }
      ]
    }
  ],
  "metadata": {
    "colab": {
      "machine_shape": "hm",
      "provenance": []
    },
    "kernelspec": {
      "display_name": "Python 3",
      "name": "python3"
    },
    "language_info": {
      "codemirror_mode": {
        "name": "ipython",
        "version": 3
      },
      "file_extension": ".py",
      "mimetype": "text/x-python",
      "name": "python",
      "nbconvert_exporter": "python",
      "pygments_lexer": "ipython3",
      "version": "3.11.5"
    }
  },
  "nbformat": 4,
  "nbformat_minor": 0
}